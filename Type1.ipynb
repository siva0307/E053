{
 "cells": [
  {
   "cell_type": "code",
   "execution_count": 3,
   "metadata": {},
   "outputs": [
    {
     "ename": "ValueError",
     "evalue": "can only convert an array of size 1 to a Python scalar",
     "output_type": "error",
     "traceback": [
      "\u001b[1;31m---------------------------------------------------------------------------\u001b[0m",
      "\u001b[1;31mValueError\u001b[0m                                Traceback (most recent call last)",
      "\u001b[1;32m<ipython-input-3-0eef39eb8bcf>\u001b[0m in \u001b[0;36m<module>\u001b[1;34m\u001b[0m\n\u001b[0;32m      1\u001b[0m \u001b[1;32mimport\u001b[0m \u001b[0mnumpy\u001b[0m \u001b[1;32mas\u001b[0m \u001b[0mnp\u001b[0m\u001b[1;33m\u001b[0m\u001b[1;33m\u001b[0m\u001b[0m\n\u001b[1;32m----> 2\u001b[1;33m \u001b[0mdata\u001b[0m \u001b[1;33m=\u001b[0m \u001b[0mnp\u001b[0m\u001b[1;33m.\u001b[0m\u001b[0mload\u001b[0m\u001b[1;33m(\u001b[0m\u001b[1;34m\"channel_test.npy\"\u001b[0m\u001b[1;33m)\u001b[0m\u001b[1;33m.\u001b[0m\u001b[0mitem\u001b[0m\u001b[1;33m(\u001b[0m\u001b[1;33m)\u001b[0m\u001b[1;33m\u001b[0m\u001b[1;33m\u001b[0m\u001b[0m\n\u001b[0m\u001b[0;32m      3\u001b[0m \u001b[0mdata\u001b[0m\u001b[1;33m[\u001b[0m\u001b[1;34m\"actions\"\u001b[0m\u001b[1;33m]\u001b[0m\u001b[1;33m\u001b[0m\u001b[1;33m\u001b[0m\u001b[0m\n",
      "\u001b[1;31mValueError\u001b[0m: can only convert an array of size 1 to a Python scalar"
     ]
    }
   ],
   "source": [
    "import numpy as np\n",
    "data = np.load('channel_test.npy').item()\n",
    "data[\"actions\"]"
   ]
  },
  {
   "cell_type": "code",
   "execution_count": 6,
   "metadata": {},
   "outputs": [],
   "source": [
    "import numpy as np\n",
    "data = np.load('channel_test.npy')"
   ]
  },
  {
   "cell_type": "code",
   "execution_count": 7,
   "metadata": {},
   "outputs": [
    {
     "data": {
      "text/plain": [
       "array([[ 0.50493  -0.0022313j , -0.50321  -0.073091j  ,\n",
       "         0.18667  +0.0031549j , ...,  0.       +0.j        ,\n",
       "         0.       +0.j        ,  0.       +0.j        ],\n",
       "       [ 0.16968  -0.17506j   , -0.38611  +0.47436j   ,\n",
       "         0.22306  +0.088078j  , ...,  0.       +0.j        ,\n",
       "         0.       +0.j        ,  0.       +0.j        ],\n",
       "       [ 0.18306  +0.25573j   ,  0.11902  +0.47582j   ,\n",
       "         0.1497   +0.16584j   , ...,  0.       +0.j        ,\n",
       "         0.       +0.j        ,  0.       +0.j        ],\n",
       "       ...,\n",
       "       [ 0.55282  -0.59434j   ,  0.37849  -0.00098895j,\n",
       "        -0.11793  -0.061079j  , ...,  0.       +0.j        ,\n",
       "         0.       +0.j        ,  0.0045732-0.0023458j ],\n",
       "       [ 0.18205  -0.2808j    ,  0.051742 -0.25989j   ,\n",
       "         0.038683 -0.12542j   , ...,  0.       +0.j        ,\n",
       "         0.       +0.j        ,  0.0045468+0.0016585j ],\n",
       "       [ 0.12752  -0.21466j   , -0.13911  +0.14465j   ,\n",
       "         0.12296  +0.017737j  , ...,  0.       +0.j        ,\n",
       "         0.       +0.j        ,  0.0029166+0.0043486j ]])"
      ]
     },
     "execution_count": 7,
     "metadata": {},
     "output_type": "execute_result"
    }
   ],
   "source": [
    "data\n"
   ]
  },
  {
   "cell_type": "code",
   "execution_count": 12,
   "metadata": {},
   "outputs": [],
   "source": [
    "np.savetxt(\"output.csv\",data, delimiter=None)\n"
   ]
  },
  {
   "cell_type": "code",
   "execution_count": null,
   "metadata": {},
   "outputs": [],
   "source": []
  }
 ],
 "metadata": {
  "kernelspec": {
   "display_name": "Python 3",
   "language": "python",
   "name": "python3"
  },
  "language_info": {
   "codemirror_mode": {
    "name": "ipython",
    "version": 3
   },
   "file_extension": ".py",
   "mimetype": "text/x-python",
   "name": "python",
   "nbconvert_exporter": "python",
   "pygments_lexer": "ipython3",
   "version": "3.7.4"
  }
 },
 "nbformat": 4,
 "nbformat_minor": 2
}
